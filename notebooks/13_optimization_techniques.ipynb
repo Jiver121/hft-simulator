{
 "cells": [
  {"cell_type": "markdown", "metadata": {}, "source": ["# 13 - Optimization Techniques: Performance Optimization\n\nExplore performance and resource optimization strategies for both simulation backends and strategy code.\n\nObjectives:\n- Profile time and memory usage for backtests\n- Optimize Python code bottlenecks (NumPy, Cython, Numba)\n- Use run-time compilation and vectorization\n- Real-world performance case studies\n"]},
  {"cell_type": "markdown", "metadata": {}, "source": ["## Optimization Architecture\nData input flows through Python, then NumPy/Numba-accelerated code, with optional parallelization or JIT layers.\n"]},
  {"cell_type": "code", "metadata": {}, "execution_count": null, "outputs": [], "source": ["import matplotlib.pyplot as plt\nfig, ax = plt.subplots(figsize=(10,3)); ax.axis('off');\nax.annotate('Raw Data', (0.1, 0.5), fontsize=12, ha='center'); ax.annotate('Python logic', (0.4, 0.7), fontsize=11, ha='center'); ax.annotate('NumPy', (0.6, 0.5), fontsize=11, ha='center'); ax.annotate('Numba/Cython', (0.8, 0.7), fontsize=11, ha='center'); ax.annotate('Results', (0.95, 0.5), fontsize=11, ha='center'); ax.arrow(0.18,0.5,0.15,0, head_width=0.04, head_length=0.04, color='gray'); ax.arrow(0.48,0.65,0.08,-0.1, head_width=0.04, head_length=0.04, color='orange'); ax.arrow(0.48,0.7,0.12,0, head_width=0.04, head_length=0.04, color='gray'); ax.arrow(0.72,0.7,0.12,0, head_width=0.04, head_length=0.04, color='gray'); plt.show()"]},
  {"cell_type": "markdown", "source": ["## Profiling Examples: Finding Bottlenecks"], "metadata": {} },
  {"cell_type": "code", "metadata": {}, "execution_count": null, "outputs": [], "source": ["import numpy as np; import time\nnp.random.seed(101)\nx = np.random.randn(30000)\nstart = time.time(); [abs(i) for i in x]; print(f'Python list comprehension: {time.time()-start:.4f}s')\nstart = time.time(); np.abs(x); print(f'NumPy: {time.time()-start:.4f}s')"]},
  {"cell_type": "markdown", "source": ["## Interactive Numba/Vectorization Demo\n"], "metadata": {} },
  {"cell_type": "code", "metadata": {}, "execution_count": null, "outputs": [], "source": ["try:\n    import numba\n    numba_avail = True\nexcept: numba_avail = False\n\ndef slow_fn(x): out = 0;\n    for i in range(len(x)): out += x[i]**2\n    return out\nif numba_avail:\n    @numba.njit\n    def fast_fn(x): out = 0.;\n        for i in range(len(x)): out += x[i]**2\n        return out\nelse:\n    fast_fn = slow_fn\nimport numpy as np; x = np.arange(200000)\nimport time\nt1 = time.time(); s = slow_fn(x); t2 = time.time(); print(f'slow_fn: {t2-t1:.4f}s')\nt1 = time.time(); s = fast_fn(x); t2 = time.time(); print(f'fast_fn: {t2-t1:.4f}s')"]},
  {"cell_type":"markdown","source":["## Exercises\n1. Instrument a strategy for line-by-line profiling\n2. Parallelize a for loop using Numba/prange\n3. Compare memory usage for list vs array\n\nToggle for solutions below."],"metadata":{}},
  {"cell_type": "code", "metadata": {}, "execution_count": null, "outputs": [], "source": ["show_solutions = False\ntry:\n    import ipywidgets as widgets\n    btn = widgets.ToggleButton(value=False, description='Show Solutions')\n    display(btn)\n    def on_toggle(change):\n        global show_solutions\n        show_solutions = change['new']\n    btn.observe(on_toggle, 'value')\nexcept: pass\nif show_solutions:\n    print('1. Use %lprun or Python\'s cProfile module on logic block')\n    print('2. Use numba.prange for parallel for loops')\n    print('3. Use sys.getsizeof(var) for each type, compare MB/GB')"]},
  {"cell_type": "markdown", "source": ["## Performance Benchmarks\nCompare various optimization approaches."], "metadata": {} },
  {"cell_type": "code", "metadata": {}, "execution_count": null, "outputs": [], "source": ["import time; import numpy as np\nx = np.random.rand(10**6)\nstart = time.time(); [xi**2 for xi in x]; print(time.time()-start)\nstart = time.time(); np.square(x); print(time.time()-start)"]},
  {"cell_type": "markdown", "source": ["## Real-world Applications\n- Fast tick/quotes simulation\n- Large strategy portfolio backtests\n- Education on trade-offs for real-time systems\n"], "metadata": {} }
 ],
 "metadata": {
  "kernelspec": {"display_name": "Python 3", "language": "python", "name": "python3"},
  "language_info": {"name": "python", "version": "3.10.0"}
 },
 "nbformat": 4,
 "nbformat_minor": 5
}
