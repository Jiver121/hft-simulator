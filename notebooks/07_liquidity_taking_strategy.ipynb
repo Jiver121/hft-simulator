{
 "cells": [
  {
   "cell_type": "markdown",
   "id": "2fdd31da",
   "metadata": {},
   "source": [
    "# 07 - Liquidity Taking Strategy: Momentum/Mean Reversion\n",
    "\n",
    "Explore how liquidity taking (market order) strategies operate. We'll implement momentum and mean reversion logic in a realistic market simulation.\n",
    "\n",
    "Objectives:\n",
    "- Understand what defines a liquidity taker\n",
    "- Implement both momentum and mean reversion strategies\n",
    "- Tune parameters and visualize performance\n",
    "- See real-world uses and limitations\n"
   ]
  },
  {
   "cell_type": "markdown",
   "id": "17c22369",
   "metadata": {},
   "source": [
    "## Strategy Schematic\n",
    "Minimal diagram: Market Data feeds a trading signal generator. Signal produces market order, sent to execution engine.\n"
   ]
  },
  {
   "cell_type": "code",
   "execution_count": 1,
   "id": "05a88b7a",
   "metadata": {
    "execution": {
     "iopub.execute_input": "2025-08-13T04:57:52.037704Z",
     "iopub.status.busy": "2025-08-13T04:57:52.037338Z",
     "iopub.status.idle": "2025-08-13T04:57:52.502338Z",
     "shell.execute_reply": "2025-08-13T04:57:52.501635Z"
    }
   },
   "outputs": [
    {
     "data": {
      "image/png": "[encoded data removed]",
      "text/plain": [
       "<Figure size 1000x300 with 1 Axes>"
      ]
     },
     "metadata": {},
     "output_type": "display_data"
    }
   ],
   "source": [
    "import matplotlib.pyplot as plt\n",
    "fig, ax = plt.subplots(figsize=(10, 3)); ax.axis('off');\n",
    "ax.annotate('Market Data', (0.1, 0.5), fontsize=12, ha='center'); ax.annotate('Signal Gen', (0.5, 0.5), fontsize=12, ha='center'); ax.annotate('Exec', (0.9, 0.5), fontsize=12, ha='center'); ax.arrow(0.18,0.5,0.20,0,head_width=0.04, head_length=0.04, color='blue'); ax.arrow(0.58,0.5,0.20,0,head_width=0.04, head_length=0.04, color='green'); ax.text(0.5,0.2,'order',ha='center'); plt.show()"
   ]
  },
  {
   "cell_type": "markdown",
   "id": "dcda7f1d",
   "metadata": {},
   "source": [
    "## Code Examples: Strategy Logic"
   ]
  },
  {
   "cell_type": "code",
   "execution_count": 2,
   "id": "2547f42c",
   "metadata": {
    "execution": {
     "iopub.execute_input": "2025-08-13T04:57:52.504834Z",
     "iopub.status.busy": "2025-08-13T04:57:52.504393Z",
     "iopub.status.idle": "2025-08-13T04:57:52.515752Z",
     "shell.execute_reply": "2025-08-13T04:57:52.515398Z"
    }
   },
   "outputs": [],
   "source": [
    "import numpy as np\n",
    "np.random.seed(1)\n",
    "prices = 100 + np.cumsum(np.random.randn(500))\n",
    "\n",
    "def momentum_strategy(prices, lookback=10, threshold=0.0):\n",
    "    signals = np.zeros(len(prices))\n",
    "    for t in range(lookback, len(prices)):\n",
    "        mom = (prices[t] - prices[t - lookback]) / prices[t - lookback]\n",
    "        if mom > threshold: signals[t] = 1\n",
    "        elif mom < -threshold: signals[t] = -1\n",
    "    return signals\n",
    "\n",
    "def mean_reversion_strategy(prices, lookback=10, threshold=0.0):\n",
    "    signals = np.zeros(len(prices))\n",
    "    for t in range(lookback, len(prices)):\n",
    "        ret = (prices[t] - np.mean(prices[t - lookback:t])) / np.mean(prices[t - lookback:t])\n",
    "        if ret < -threshold: signals[t] = 1\n",
    "        elif ret > threshold: signals[t] = -1\n",
    "    return signals\n"
   ]
  },
  {
   "cell_type": "markdown",
   "id": "1fb9615a",
   "metadata": {},
   "source": [
    "## Interactive Strategy Visualizer"
   ]
  },
  {
   "cell_type": "code",
   "execution_count": 3,
   "id": "2644ab55",
   "metadata": {
    "execution": {
     "iopub.execute_input": "2025-08-13T04:57:52.517410Z",
     "iopub.status.busy": "2025-08-13T04:57:52.517203Z",
     "iopub.status.idle": "2025-08-13T04:57:52.665086Z",
     "shell.execute_reply": "2025-08-13T04:57:52.664332Z"
    }
   },
   "outputs": [
    {
     "data": {
      "application/vnd.jupyter.widget-view+json": {
       "model_id": "c678e72ee9f544fbb63ff4cf998316c7",
       "version_major": 2,
       "version_minor": 0
      },
      "text/plain": [
       "interactive(children=(Dropdown(description='kind', options=('momentum', 'mean_reversion'), value='momentum'), …"
      ]
     },
     "metadata": {},
     "output_type": "display_data"
    }
   ],
   "source": [
    "try:\n",
    "    import ipywidgets as widgets\n",
    "    from ipywidgets import interact\n",
    "    widgets_ok = True\n",
    "except:\n",
    "    widgets_ok = False\n",
    "\n",
    "def plot_strategy(kind='momentum', lookback=10, threshold=0.01):\n",
    "    if kind == 'momentum':\n",
    "        signals = momentum_strategy(prices, lookback, threshold)\n",
    "    else:\n",
    "        signals = mean_reversion_strategy(prices, lookback, threshold)\n",
    "    plt.figure(figsize=(10,4))\n",
    "    plt.plot(prices, label='Price')\n",
    "    plt.plot(np.where(signals==1)[0], prices[signals==1], '^g', label='Buy', alpha=0.5)\n",
    "    plt.plot(np.where(signals==-1)[0], prices[signals==-1], 'vr', label='Sell', alpha=0.5)\n",
    "    plt.legend(); plt.grid(); plt.title(f'{kind.title()} Strategy')\n",
    "    plt.show()\n",
    "\n",
    "if widgets_ok:\n",
    "    interact(plot_strategy, kind=['momentum','mean_reversion'], lookback=(2,50,1), threshold=(0,0.05,0.005))\n",
    "else:\n",
    "    plot_strategy()"
   ]
  },
  {
   "cell_type": "markdown",
   "id": "95e26a6c",
   "metadata": {},
   "source": [
    "## Exercises\n",
    "1. Add a transaction cost to the PnL calculation\n",
    "2. Tune parameters for maximum Sharpe Ratio\n",
    "3. Extend momentum strategy to skip signals when volatility very high\n",
    "\n",
    "Solutions are toggleable below."
   ]
  },
  {
   "cell_type": "code",
   "execution_count": 4,
   "id": "f60b8dcd",
   "metadata": {
    "execution": {
     "iopub.execute_input": "2025-08-13T04:57:52.670928Z",
     "iopub.status.busy": "2025-08-13T04:57:52.670748Z",
     "iopub.status.idle": "2025-08-13T04:57:52.675435Z",
     "shell.execute_reply": "2025-08-13T04:57:52.674685Z"
    }
   },
   "outputs": [
    {
     "data": {
      "application/vnd.jupyter.widget-view+json": {
       "model_id": "2ea593cf5ff64cdbad8afba6a7ef9d56",
       "version_major": 2,
       "version_minor": 0
      },
      "text/plain": [
       "ToggleButton(value=False, description='Show Solutions')"
      ]
     },
     "metadata": {},
     "output_type": "display_data"
    }
   ],
   "source": [
    "show_solutions = False\n",
    "try:\n",
    "    import ipywidgets as widgets\n",
    "    btn = widgets.ToggleButton(value=False, description='Show Solutions')\n",
    "    display(btn)\n",
    "    def on_toggle(change):\n",
    "        global show_solutions\n",
    "        show_solutions = change['new']\n",
    "    btn.observe(on_toggle, 'value')\n",
    "except: pass\n",
    "if show_solutions:\n",
    "    print('1. Add cost: pnl -= transaction_cost * abs(signal)')\n",
    "    print('2. Optimize by sweeping lookback, threshold and computing mean/std of returns.')\n",
    "    print('3. Add `if np.std(prices[t-lookback:t]) > vol_thresh: signals[t]=0`')"
   ]
  },
  {
   "cell_type": "markdown",
   "id": "cfeaa54a",
   "metadata": {},
   "source": [
    "## Performance Benchmarks\n",
    "Speed of vectorized vs looped signal computation."
   ]
  },
  {
   "cell_type": "code",
   "execution_count": 5,
   "id": "5b72ba20",
   "metadata": {
    "execution": {
     "iopub.execute_input": "2025-08-13T04:57:52.678370Z",
     "iopub.status.busy": "2025-08-13T04:57:52.677903Z",
     "iopub.status.idle": "2025-08-13T04:57:52.687928Z",
     "shell.execute_reply": "2025-08-13T04:57:52.687445Z"
    }
   },
   "outputs": [
    {
     "name": "stdout",
     "output_type": "stream",
     "text": [
      "Momentum loops: 0.006s\n",
      "Momentum vectorized: 0.000s\n"
     ]
    }
   ],
   "source": [
    "import time\n",
    "start = time.time()\n",
    "for _ in range(30):\n",
    "    momentum_strategy(prices, 10, 0.01)\n",
    "print(f'Momentum loops: {(time.time()-start):.3f}s')\n",
    "\n",
    "start = time.time()\n",
    "for _ in range(30):\n",
    "    signals = (prices[10:] - prices[:-10])/prices[:-10]\n",
    "print(f'Momentum vectorized: {(time.time()-start):.3f}s')"
   ]
  },
  {
   "cell_type": "markdown",
   "id": "134fcbdb",
   "metadata": {},
   "source": [
    "## Real-world Applications\n",
    "- Liquid ETF market making\n",
    "- Latency arbitrage\n",
    "- Intraday trend/range reversal detection\n",
    "- Trading microstructure studies\n"
   ]
  }
 ],
 "metadata": {
  "kernelspec": {
   "display_name": "Python 3",
   "language": "python",
   "name": "python3"
  },
  "language_info": {
   "codemirror_mode": {
    "name": "ipython",
    "version": 3
   },
   "file_extension": ".py",
   "mimetype": "text/x-python",
   "name": "python",
   "nbconvert_exporter": "python",
   "pygments_lexer": "ipython3",
   "version": "3.13.5"
  },
  "widgets": {
   "application/vnd.jupyter.widget-state+json": {
    "state": {
     "28d5f3fd3089411eb4704ee6d16112f6": {
      "model_module": "@jupyter-widgets/controls",
      "model_module_version": "2.0.0",
      "model_name": "ToggleButtonStyleModel",
      "state": {
       "_model_module": "@jupyter-widgets/controls",
       "_model_module_version": "2.0.0",
       "_model_name": "ToggleButtonStyleModel",
       "_view_count": null,
       "_view_module": "@jupyter-widgets/base",
       "_view_module_version": "2.0.0",
       "_view_name": "StyleView",
       "description_width": "",
       "font_family": null,
       "font_size": null,
       "font_style": null,
       "font_variant": null,
       "font_weight": null,
       "text_color": null,
       "text_decoration": null
      }
     },
     "2ea593cf5ff64cdbad8afba6a7ef9d56": {
      "model_module": "@jupyter-widgets/controls",
      "model_module_version": "2.0.0",
      "model_name": "ToggleButtonModel",
      "state": {
       "_dom_classes": [],
       "_model_module": "@jupyter-widgets/controls",
       "_model_module_version": "2.0.0",
       "_model_name": "ToggleButtonModel",
       "_view_count": null,
       "_view_module": "@jupyter-widgets/controls",
       "_view_module_version": "2.0.0",
       "_view_name": "ToggleButtonView",
       "button_style": "",
       "description": "Show Solutions",
       "description_allow_html": false,
       "disabled": false,
       "icon": "",
       "layout": "IPY_MODEL_ab1832b32e454e36bbe073a66e0f26d1",
       "style": "IPY_MODEL_28d5f3fd3089411eb4704ee6d16112f6",
       "tabbable": null,
       "tooltip": null,
       "value": false
      }
     },
     "36228ac52263413f83825f348ae6eb9a": {
      "model_module": "@jupyter-widgets/controls",
      "model_module_version": "2.0.0",
      "model_name": "DropdownModel",
      "state": {
       "_dom_classes": [],
       "_model_module": "@jupyter-widgets/controls",
       "_model_module_version": "2.0.0",
       "_model_name": "DropdownModel",
       "_options_labels": [
        "momentum",
        "mean_reversion"
       ],
       "_view_count": null,
       "_view_module": "@jupyter-widgets/controls",
       "_view_module_version": "2.0.0",
       "_view_name": "DropdownView",
       "description": "kind",
       "description_allow_html": false,
       "disabled": false,
       "index": 0,
       "layout": "IPY_MODEL_af9350021c9847b8b995a6791e90be05",
       "style": "IPY_MODEL_696e24923d744000a4cd728b32d3ba12",
       "tabbable": null,
       "tooltip": null
      }
     },
     "3a7fe7d441de48f1b96eb2e80387b775": {
      "model_module": "@jupyter-widgets/base",
      "model_module_version": "2.0.0",
      "model_name": "LayoutModel",
      "state": {
       "_model_module": "@jupyter-widgets/base",
       "_model_module_version": "2.0.0",
       "_model_name": "LayoutModel",
       "_view_count": null,
       "_view_module": "@jupyter-widgets/base",
       "_view_module_version": "2.0.0",
       "_view_name": "LayoutView",
       "align_content": null,
       "align_items": null,
       "align_self": null,
       "border_bottom": null,
       "border_left": null,
       "border_right": null,
       "border_top": null,
       "bottom": null,
       "display": null,
       "flex": null,
       "flex_flow": null,
       "grid_area": null,
       "grid_auto_columns": null,
       "grid_auto_flow": null,
       "grid_auto_rows": null,
       "grid_column": null,
       "grid_gap": null,
       "grid_row": null,
       "grid_template_areas": null,
       "grid_template_columns": null,
       "grid_template_rows": null,
       "height": null,
       "justify_content": null,
       "justify_items": null,
       "left": null,
       "margin": null,
       "max_height": null,
       "max_width": null,
       "min_height": null,
       "min_width": null,
       "object_fit": null,
       "object_position": null,
       "order": null,
       "overflow": null,
       "padding": null,
       "right": null,
       "top": null,
       "visibility": null,
       "width": null
      }
     },
     "48ca8bb6c28f421f8ed60c49084e7650": {
      "model_module": "@jupyter-widgets/output",
      "model_module_version": "1.0.0",
      "model_name": "OutputModel",
      "state": {
       "_dom_classes": [],
       "_model_module": "@jupyter-widgets/output",
       "_model_module_version": "1.0.0",
       "_model_name": "OutputModel",
       "_view_count": null,
       "_view_module": "@jupyter-widgets/output",
       "_view_module_version": "1.0.0",
       "_view_name": "OutputView",
       "layout": "IPY_MODEL_e124ffa3f01741b4b20e939e7e9fb0ee",
       "msg_id": "",
       "outputs": [
        {
         "data": {
          "image/png": "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",
          "text/plain": "<Figure size 1000x400 with 1 Axes>"
         },
         "metadata": {},
         "output_type": "display_data"
        }
       ],
       "tabbable": null,
       "tooltip": null
      }
     },
     "581c183d2e394534ad1fb4f5114208b6": {
      "model_module": "@jupyter-widgets/base",
      "model_module_version": "2.0.0",
      "model_name": "LayoutModel",
      "state": {
       "_model_module": "@jupyter-widgets/base",
       "_model_module_version": "2.0.0",
       "_model_name": "LayoutModel",
       "_view_count": null,
       "_view_module": "@jupyter-widgets/base",
       "_view_module_version": "2.0.0",
       "_view_name": "LayoutView",
       "align_content": null,
       "align_items": null,
       "align_self": null,
       "border_bottom": null,
       "border_left": null,
       "border_right": null,
       "border_top": null,
       "bottom": null,
       "display": null,
       "flex": null,
       "flex_flow": null,
       "grid_area": null,
       "grid_auto_columns": null,
       "grid_auto_flow": null,
       "grid_auto_rows": null,
       "grid_column": null,
       "grid_gap": null,
       "grid_row": null,
       "grid_template_areas": null,
       "grid_template_columns": null,
       "grid_template_rows": null,
       "height": null,
       "justify_content": null,
       "justify_items": null,
       "left": null,
       "margin": null,
       "max_height": null,
       "max_width": null,
       "min_height": null,
       "min_width": null,
       "object_fit": null,
       "object_position": null,
       "order": null,
       "overflow": null,
       "padding": null,
       "right": null,
       "top": null,
       "visibility": null,
       "width": null
      }
     },
     "696e24923d744000a4cd728b32d3ba12": {
      "model_module": "@jupyter-widgets/controls",
      "model_module_version": "2.0.0",
      "model_name": "DescriptionStyleModel",
      "state": {
       "_model_module": "@jupyter-widgets/controls",
       "_model_module_version": "2.0.0",
       "_model_name": "DescriptionStyleModel",
       "_view_count": null,
       "_view_module": "@jupyter-widgets/base",
       "_view_module_version": "2.0.0",
       "_view_name": "StyleView",
       "description_width": ""
      }
     },
     "ab1832b32e454e36bbe073a66e0f26d1": {
      "model_module": "@jupyter-widgets/base",
      "model_module_version": "2.0.0",
      "model_name": "LayoutModel",
      "state": {
       "_model_module": "@jupyter-widgets/base",
       "_model_module_version": "2.0.0",
       "_model_name": "LayoutModel",
       "_view_count": null,
       "_view_module": "@jupyter-widgets/base",
       "_view_module_version": "2.0.0",
       "_view_name": "LayoutView",
       "align_content": null,
       "align_items": null,
       "align_self": null,
       "border_bottom": null,
       "border_left": null,
       "border_right": null,
       "border_top": null,
       "bottom": null,
       "display": null,
       "flex": null,
       "flex_flow": null,
       "grid_area": null,
       "grid_auto_columns": null,
       "grid_auto_flow": null,
       "grid_auto_rows": null,
       "grid_column": null,
       "grid_gap": null,
       "grid_row": null,
       "grid_template_areas": null,
       "grid_template_columns": null,
       "grid_template_rows": null,
       "height": null,
       "justify_content": null,
       "justify_items": null,
       "left": null,
       "margin": null,
       "max_height": null,
       "max_width": null,
       "min_height": null,
       "min_width": null,
       "object_fit": null,
       "object_position": null,
       "order": null,
       "overflow": null,
       "padding": null,
       "right": null,
       "top": null,
       "visibility": null,
       "width": null
      }
     },
     "af9350021c9847b8b995a6791e90be05": {
      "model_module": "@jupyter-widgets/base",
      "model_module_version": "2.0.0",
      "model_name": "LayoutModel",
      "state": {
       "_model_module": "@jupyter-widgets/base",
       "_model_module_version": "2.0.0",
       "_model_name": "LayoutModel",
       "_view_count": null,
       "_view_module": "@jupyter-widgets/base",
       "_view_module_version": "2.0.0",
       "_view_name": "LayoutView",
       "align_content": null,
       "align_items": null,
       "align_self": null,
       "border_bottom": null,
       "border_left": null,
       "border_right": null,
       "border_top": null,
       "bottom": null,
       "display": null,
       "flex": null,
       "flex_flow": null,
       "grid_area": null,
       "grid_auto_columns": null,
       "grid_auto_flow": null,
       "grid_auto_rows": null,
       "grid_column": null,
       "grid_gap": null,
       "grid_row": null,
       "grid_template_areas": null,
       "grid_template_columns": null,
       "grid_template_rows": null,
       "height": null,
       "justify_content": null,
       "justify_items": null,
       "left": null,
       "margin": null,
       "max_height": null,
       "max_width": null,
       "min_height": null,
       "min_width": null,
       "object_fit": null,
       "object_position": null,
       "order": null,
       "overflow": null,
       "padding": null,
       "right": null,
       "top": null,
       "visibility": null,
       "width": null
      }
     },
     "b6f855dfb9504fb3934bdd169bba38a2": {
      "model_module": "@jupyter-widgets/controls",
      "model_module_version": "2.0.0",
      "model_name": "FloatSliderModel",
      "state": {
       "_dom_classes": [],
       "_model_module": "@jupyter-widgets/controls",
       "_model_module_version": "2.0.0",
       "_model_name": "FloatSliderModel",
       "_view_count": null,
       "_view_module": "@jupyter-widgets/controls",
       "_view_module_version": "2.0.0",
       "_view_name": "FloatSliderView",
       "behavior": "drag-tap",
       "continuous_update": true,
       "description": "threshold",
       "description_allow_html": false,
       "disabled": false,
       "layout": "IPY_MODEL_e11be12fe6a74d4e9374eead96e1ce35",
       "max": 0.05,
       "min": 0.0,
       "orientation": "horizontal",
       "readout": true,
       "readout_format": ".2f",
       "step": 0.005,
       "style": "IPY_MODEL_eca0a883823a40fe966faf8aa99ec5a8",
       "tabbable": null,
       "tooltip": null,
       "value": 0.01
      }
     },
     "c1eb74851b34428ea960d9aca390b5ab": {
      "model_module": "@jupyter-widgets/controls",
      "model_module_version": "2.0.0",
      "model_name": "SliderStyleModel",
      "state": {
       "_model_module": "@jupyter-widgets/controls",
       "_model_module_version": "2.0.0",
       "_model_name": "SliderStyleModel",
       "_view_count": null,
       "_view_module": "@jupyter-widgets/base",
       "_view_module_version": "2.0.0",
       "_view_name": "StyleView",
       "description_width": "",
       "handle_color": null
      }
     },
     "c678e72ee9f544fbb63ff4cf998316c7": {
      "model_module": "@jupyter-widgets/controls",
      "model_module_version": "2.0.0",
      "model_name": "VBoxModel",
      "state": {
       "_dom_classes": [
        "widget-interact"
       ],
       "_model_module": "@jupyter-widgets/controls",
       "_model_module_version": "2.0.0",
       "_model_name": "VBoxModel",
       "_view_count": null,
       "_view_module": "@jupyter-widgets/controls",
       "_view_module_version": "2.0.0",
       "_view_name": "VBoxView",
       "box_style": "",
       "children": [
        "IPY_MODEL_36228ac52263413f83825f348ae6eb9a",
        "IPY_MODEL_d082b705366740bfbd3cf803ffb88e4c",
        "IPY_MODEL_b6f855dfb9504fb3934bdd169bba38a2",
        "IPY_MODEL_48ca8bb6c28f421f8ed60c49084e7650"
       ],
       "layout": "IPY_MODEL_581c183d2e394534ad1fb4f5114208b6",
       "tabbable": null,
       "tooltip": null
      }
     },
     "d082b705366740bfbd3cf803ffb88e4c": {
      "model_module": "@jupyter-widgets/controls",
      "model_module_version": "2.0.0",
      "model_name": "IntSliderModel",
      "state": {
       "_dom_classes": [],
       "_model_module": "@jupyter-widgets/controls",
       "_model_module_version": "2.0.0",
       "_model_name": "IntSliderModel",
       "_view_count": null,
       "_view_module": "@jupyter-widgets/controls",
       "_view_module_version": "2.0.0",
       "_view_name": "IntSliderView",
       "behavior": "drag-tap",
       "continuous_update": true,
       "description": "lookback",
       "description_allow_html": false,
       "disabled": false,
       "layout": "IPY_MODEL_3a7fe7d441de48f1b96eb2e80387b775",
       "max": 50,
       "min": 2,
       "orientation": "horizontal",
       "readout": true,
       "readout_format": "d",
       "step": 1,
       "style": "IPY_MODEL_c1eb74851b34428ea960d9aca390b5ab",
       "tabbable": null,
       "tooltip": null,
       "value": 10
      }
     },
     "e11be12fe6a74d4e9374eead96e1ce35": {
      "model_module": "@jupyter-widgets/base",
      "model_module_version": "2.0.0",
      "model_name": "LayoutModel",
      "state": {
       "_model_module": "@jupyter-widgets/base",
       "_model_module_version": "2.0.0",
       "_model_name": "LayoutModel",
       "_view_count": null,
       "_view_module": "@jupyter-widgets/base",
       "_view_module_version": "2.0.0",
       "_view_name": "LayoutView",
       "align_content": null,
       "align_items": null,
       "align_self": null,
       "border_bottom": null,
       "border_left": null,
       "border_right": null,
       "border_top": null,
       "bottom": null,
       "display": null,
       "flex": null,
       "flex_flow": null,
       "grid_area": null,
       "grid_auto_columns": null,
       "grid_auto_flow": null,
       "grid_auto_rows": null,
       "grid_column": null,
       "grid_gap": null,
       "grid_row": null,
       "grid_template_areas": null,
       "grid_template_columns": null,
       "grid_template_rows": null,
       "height": null,
       "justify_content": null,
       "justify_items": null,
       "left": null,
       "margin": null,
       "max_height": null,
       "max_width": null,
       "min_height": null,
       "min_width": null,
       "object_fit": null,
       "object_position": null,
       "order": null,
       "overflow": null,
       "padding": null,
       "right": null,
       "top": null,
       "visibility": null,
       "width": null
      }
     },
     "e124ffa3f01741b4b20e939e7e9fb0ee": {
      "model_module": "@jupyter-widgets/base",
      "model_module_version": "2.0.0",
      "model_name": "LayoutModel",
      "state": {
       "_model_module": "@jupyter-widgets/base",
       "_model_module_version": "2.0.0",
       "_model_name": "LayoutModel",
       "_view_count": null,
       "_view_module": "@jupyter-widgets/base",
       "_view_module_version": "2.0.0",
       "_view_name": "LayoutView",
       "align_content": null,
       "align_items": null,
       "align_self": null,
       "border_bottom": null,
       "border_left": null,
       "border_right": null,
       "border_top": null,
       "bottom": null,
       "display": null,
       "flex": null,
       "flex_flow": null,
       "grid_area": null,
       "grid_auto_columns": null,
       "grid_auto_flow": null,
       "grid_auto_rows": null,
       "grid_column": null,
       "grid_gap": null,
       "grid_row": null,
       "grid_template_areas": null,
       "grid_template_columns": null,
       "grid_template_rows": null,
       "height": null,
       "justify_content": null,
       "justify_items": null,
       "left": null,
       "margin": null,
       "max_height": null,
       "max_width": null,
       "min_height": null,
       "min_width": null,
       "object_fit": null,
       "object_position": null,
       "order": null,
       "overflow": null,
       "padding": null,
       "right": null,
       "top": null,
       "visibility": null,
       "width": null
      }
     },
     "eca0a883823a40fe966faf8aa99ec5a8": {
      "model_module": "@jupyter-widgets/controls",
      "model_module_version": "2.0.0",
      "model_name": "SliderStyleModel",
      "state": {
       "_model_module": "@jupyter-widgets/controls",
       "_model_module_version": "2.0.0",
       "_model_name": "SliderStyleModel",
       "_view_count": null,
       "_view_module": "@jupyter-widgets/base",
       "_view_module_version": "2.0.0",
       "_view_name": "StyleView",
       "description_width": "",
       "handle_color": null
      }
     }
    },
    "version_major": 2,
    "version_minor": 0
   }
  }
 },
 "nbformat": 4,
 "nbformat_minor": 5
}
