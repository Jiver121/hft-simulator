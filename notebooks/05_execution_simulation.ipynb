{
 "cells": [
  {
   "cell_type": "markdown",
   "id": "bbbcc741",
   "metadata": {},
   "source": [
    "# 05 - Execution Simulation: Order Matching Mechanics\n",
    "\n",
    "Explore the mechanics of order matching engines and execution simulation. Understand limit/market orders, queue priority, latency, and how trades are executed or missed.\n"
   ]
  },
  {
   "cell_type": "markdown",
   "id": "803ad261",
   "metadata": {},
   "source": [
    "## Order Matching Engine Architecture\n",
    "Below: Architecture diagram of a minimalist order book/matching engine.\n"
   ]
  },
  {
   "cell_type": "code",
   "execution_count": 1,
   "id": "eeca3392",
   "metadata": {
    "execution": {
     "iopub.execute_input": "2025-08-13T04:56:08.008179Z",
     "iopub.status.busy": "2025-08-13T04:56:08.007824Z",
     "iopub.status.idle": "2025-08-13T04:56:08.444748Z",
     "shell.execute_reply": "2025-08-13T04:56:08.444242Z"
    }
   },
   "outputs": [
    {
     "data": {
      "image/png": "[encoded data removed]",
      "text/plain": [
       "<Figure size 1000x500 with 1 Axes>"
      ]
     },
     "metadata": {},
     "output_type": "display_data"
    }
   ],
   "source": [
    "import matplotlib.pyplot as plt\n",
    "import matplotlib.patches as patches\n",
    "fig, ax = plt.subplots(figsize=(10, 5))\n",
    "ax.axis('off')\n",
    "ax.annotate('Order Received', (0.1, 0.7), fontsize=12, ha='center')\n",
    "ax.annotate('Order Book', (0.5, 0.7), fontsize=12, ha='center')\n",
    "ax.annotate('Trade Report', (0.85, 0.7), fontsize=12, ha='center')\n",
    "ax.arrow(0.2, 0.7, 0.2, 0, head_width=0.04, head_length=0.04, color='blue')\n",
    "ax.arrow(0.6, 0.7, 0.2, 0, head_width=0.04, head_length=0.04, color='green')\n",
    "ax.text(0.5, 0.5, 'Matching\\nLogic', ha='center', bbox=dict(facecolor='lavender', edgecolor='purple'))\n",
    "plt.show()\n"
   ]
  },
  {
   "cell_type": "markdown",
   "id": "526cc577",
   "metadata": {},
   "source": [
    "## Basic Double Auction Order Book\n",
    "Let's implement a minimal price/time-priority order book (bids/asks)."
   ]
  },
  {
   "cell_type": "code",
   "execution_count": 2,
   "id": "3625e76f",
   "metadata": {
    "execution": {
     "iopub.execute_input": "2025-08-13T04:56:08.446411Z",
     "iopub.status.busy": "2025-08-13T04:56:08.446213Z",
     "iopub.status.idle": "2025-08-13T04:56:08.452059Z",
     "shell.execute_reply": "2025-08-13T04:56:08.451511Z"
    }
   },
   "outputs": [
    {
     "name": "stdout",
     "output_type": "stream",
     "text": [
      "[{'price': 99.0, 'qty': 5}, {'price': 100.0, 'qty': 5}]\n"
     ]
    }
   ],
   "source": [
    "import heapq\n",
    "from collections import deque\n",
    "\n",
    "class Order:\n",
    "    def __init__(self, id, side, price, qty, time):\n",
    "        self.id = id\n",
    "        self.side = side  # 'B' or 'S'\n",
    "        self.price = price\n",
    "        self.qty = qty\n",
    "        self.time = time\n",
    "    def __lt__(self, other):\n",
    "        if self.price == other.price:\n",
    "            return self.time < other.time\n",
    "        return (self.price > other.price) if self.side=='B' else (self.price < other.price)\n",
    "\n",
    "class OrderBook:\n",
    "    def __init__(self):\n",
    "        self.bids = []  # max-heap\n",
    "        self.asks = []  # min-heap\n",
    "        self.time = 0\n",
    "        self.trades = []\n",
    "    def add(self, side, price, qty):\n",
    "        order = Order(id=len(self.bids)+len(self.asks)+1, side=side, price=price, qty=qty, time=self.time)\n",
    "        self.time += 1\n",
    "        if side == 'B':\n",
    "            heapq.heappush(self.bids, order)\n",
    "        else:\n",
    "            heapq.heappush(self.asks, order)\n",
    "        self.match()\n",
    "    def match(self):\n",
    "        while self.bids and self.asks and self.bids[0].price >= self.asks[0].price:\n",
    "            buy, sell = heapq.heappop(self.bids), heapq.heappop(self.asks)\n",
    "            qty = min(buy.qty, sell.qty)\n",
    "            self.trades.append({'price': sell.price, 'qty': qty})\n",
    "            if buy.qty > qty:\n",
    "                buy.qty -= qty\n",
    "                heapq.heappush(self.bids, buy)\n",
    "            if sell.qty > qty:\n",
    "                sell.qty -= qty\n",
    "                heapq.heappush(self.asks, sell)\n",
    "\n",
    "# Demo\n",
    "ob = OrderBook()\n",
    "ob.add('B', 100.0, 10)\n",
    "ob.add('S', 99.0, 5)\n",
    "ob.add('S', 100.0, 20)\n",
    "print(ob.trades)"
   ]
  },
  {
   "cell_type": "markdown",
   "id": "9a34d4d3",
   "metadata": {},
   "source": [
    "## Interactive Widget: Order Matching\n",
    "Change order streams and parameters below to see execution results."
   ]
  },
  {
   "cell_type": "code",
   "execution_count": 3,
   "id": "ed370aec",
   "metadata": {
    "execution": {
     "iopub.execute_input": "2025-08-13T04:56:08.453632Z",
     "iopub.status.busy": "2025-08-13T04:56:08.453404Z",
     "iopub.status.idle": "2025-08-13T04:56:08.506769Z",
     "shell.execute_reply": "2025-08-13T04:56:08.506333Z"
    }
   },
   "outputs": [
    {
     "data": {
      "application/vnd.jupyter.widget-view+json": {
       "model_id": "11739ae27c41404ab11de2d29d93ddfd",
       "version_major": 2,
       "version_minor": 0
      },
      "text/plain": [
       "interactive(children=(FloatSlider(value=100.0, description='buy_price', max=102.0, min=98.0), IntSlider(value=…"
      ]
     },
     "metadata": {},
     "output_type": "display_data"
    }
   ],
   "source": [
    "try:\n",
    "    import ipywidgets as widgets\n",
    "    from ipywidgets import interact_manual\n",
    "    widgets_ok = True\n",
    "except:\n",
    "    widgets_ok = False\n",
    "\n",
    "def simulate_orders(buy_price=100.0, buy_qty=10, sell_price=99.5, sell_qty=10):\n",
    "    ob = OrderBook()\n",
    "    ob.add('B', buy_price, buy_qty)\n",
    "    ob.add('S', sell_price, sell_qty)\n",
    "    print('Trades:', ob.trades)\n",
    "    return ob.trades\n",
    "if widgets_ok:\n",
    "    interact_manual(simulate_orders, buy_price=(98,102,0.1), buy_qty=(1,20,1), sell_price=(98,102,0.1), sell_qty=(1,20,1))\n",
    "else:\n",
    "    simulate_orders()"
   ]
  },
  {
   "cell_type": "markdown",
   "id": "4657d913",
   "metadata": {},
   "source": [
    "## Exercises\n",
    "1. Extend the engine to track order queue position and FIFO priority.\n",
    "2. Model latency and missed trades due to delays.\n",
    "3. Support partial cancellations.\n",
    "    "
   ]
  },
  {
   "cell_type": "code",
   "execution_count": 4,
   "id": "65360577",
   "metadata": {
    "execution": {
     "iopub.execute_input": "2025-08-13T04:56:08.508419Z",
     "iopub.status.busy": "2025-08-13T04:56:08.508250Z",
     "iopub.status.idle": "2025-08-13T04:56:08.512452Z",
     "shell.execute_reply": "2025-08-13T04:56:08.512059Z"
    }
   },
   "outputs": [
    {
     "data": {
      "application/vnd.jupyter.widget-view+json": {
       "model_id": "cb269663ff954d9b9036788353f41581",
       "version_major": 2,
       "version_minor": 0
      },
      "text/plain": [
       "ToggleButton(value=False, description='Show Solutions')"
      ]
     },
     "metadata": {},
     "output_type": "display_data"
    }
   ],
   "source": [
    "show_solutions = False\n",
    "try:\n",
    "    import ipywidgets as widgets\n",
    "    btn = widgets.ToggleButton(value=False, description='Show Solutions')\n",
    "    display(btn)\n",
    "    def on_toggle(change):\n",
    "        global show_solutions\n",
    "        show_solutions = change['new']\n",
    "    btn.observe(on_toggle, 'value')\n",
    "except:\n",
    "    pass\n",
    "if show_solutions:\n",
    "    print('Queue FIFO: store entered time on order, match lowest-entered order at each price.')\n",
    "    print('Latency: delay order entry in time queue, match using time as arrival order.')\n",
    "    print('Partial cancel: store live order refs, allow .qty reduction before match.')"
   ]
  },
  {
   "cell_type": "markdown",
   "id": "d958dbbb",
   "metadata": {},
   "source": [
    "## Performance Benchmarks\n",
    "We'll compare naive Python vs optimized batch insertion for large order books."
   ]
  },
  {
   "cell_type": "code",
   "execution_count": 5,
   "id": "9761fa25",
   "metadata": {
    "execution": {
     "iopub.execute_input": "2025-08-13T04:56:08.513910Z",
     "iopub.status.busy": "2025-08-13T04:56:08.513658Z",
     "iopub.status.idle": "2025-08-13T04:56:08.627843Z",
     "shell.execute_reply": "2025-08-13T04:56:08.627036Z"
    }
   },
   "outputs": [
    {
     "name": "stdout",
     "output_type": "stream",
     "text": [
      "Inserted 10000 orders in 0.03s\n"
     ]
    }
   ],
   "source": [
    "import time\n",
    "import numpy as np\n",
    "n_orders = 10000\n",
    "np.random.seed(37)\n",
    "\n",
    "orders = [(np.random.choice(['B','S']), 100+np.random.randn(), 1+np.random.randint(10)) for _ in range(n_orders)]\n",
    "start = time.time()\n",
    "ob = OrderBook()\n",
    "for s, p, q in orders:\n",
    "    ob.add(s, float(p), int(q))\n",
    "print(f'Inserted {n_orders} orders in {time.time()-start:.2f}s')"
   ]
  },
  {
   "cell_type": "markdown",
   "id": "432873eb",
   "metadata": {},
   "source": [
    "## Real-world Applications\n",
    "- Core of exchange/ATS venue simulators\n",
    "- Testing of market-making and latency arbitrage strategies\n",
    "- Microstructure feature research using synthetic order books\n",
    "- Realistic agent-based trading model development\n"
   ]
  }
 ],
 "metadata": {
  "kernelspec": {
   "display_name": "Python 3",
   "language": "python",
   "name": "python3"
  },
  "language_info": {
   "codemirror_mode": {
    "name": "ipython",
    "version": 3
   },
   "file_extension": ".py",
   "mimetype": "text/x-python",
   "name": "python",
   "nbconvert_exporter": "python",
   "pygments_lexer": "ipython3",
   "version": "3.13.5"
  },
  "widgets": {
   "application/vnd.jupyter.widget-state+json": {
    "state": {
     "046f0290ac6a4dbc8c1aecea1676f5d0": {
      "model_module": "@jupyter-widgets/controls",
      "model_module_version": "2.0.0",
      "model_name": "FloatSliderModel",
      "state": {
       "_dom_classes": [],
       "_model_module": "@jupyter-widgets/controls",
       "_model_module_version": "2.0.0",
       "_model_name": "FloatSliderModel",
       "_view_count": null,
       "_view_module": "@jupyter-widgets/controls",
       "_view_module_version": "2.0.0",
       "_view_name": "FloatSliderView",
       "behavior": "drag-tap",
       "continuous_update": true,
       "description": "buy_price",
       "description_allow_html": false,
       "disabled": false,
       "layout": "IPY_MODEL_811a4a0a174643089256ff3875b19dfc",
       "max": 102.0,
       "min": 98.0,
       "orientation": "horizontal",
       "readout": true,
       "readout_format": ".2f",
       "step": 0.1,
       "style": "IPY_MODEL_963acb522b934ee7a5b4d7b36a5a0ae1",
       "tabbable": null,
       "tooltip": null,
       "value": 100.0
      }
     },
     "11739ae27c41404ab11de2d29d93ddfd": {
      "model_module": "@jupyter-widgets/controls",
      "model_module_version": "2.0.0",
      "model_name": "VBoxModel",
      "state": {
       "_dom_classes": [
        "widget-interact"
       ],
       "_model_module": "@jupyter-widgets/controls",
       "_model_module_version": "2.0.0",
       "_model_name": "VBoxModel",
       "_view_count": null,
       "_view_module": "@jupyter-widgets/controls",
       "_view_module_version": "2.0.0",
       "_view_name": "VBoxView",
       "box_style": "",
       "children": [
        "IPY_MODEL_046f0290ac6a4dbc8c1aecea1676f5d0",
        "IPY_MODEL_a0707846bde949818e596c9edbb94317",
        "IPY_MODEL_aa0050b22a8844179da364812f7d27cd",
        "IPY_MODEL_7c182e1b4f544311bfd8e533472f3ca7",
        "IPY_MODEL_ab89f9b53bce43829a8b8781452c964b",
        "IPY_MODEL_6fcb26d93eb5488db2eb6513a3b31922"
       ],
       "layout": "IPY_MODEL_54353b6c12564260ba512c0e73d0dc83",
       "tabbable": null,
       "tooltip": null
      }
     },
     "11e1d28a600f47f0b6d957c83b8a271c": {
      "model_module": "@jupyter-widgets/base",
      "model_module_version": "2.0.0",
      "model_name": "LayoutModel",
      "state": {
       "_model_module": "@jupyter-widgets/base",
       "_model_module_version": "2.0.0",
       "_model_name": "LayoutModel",
       "_view_count": null,
       "_view_module": "@jupyter-widgets/base",
       "_view_module_version": "2.0.0",
       "_view_name": "LayoutView",
       "align_content": null,
       "align_items": null,
       "align_self": null,
       "border_bottom": null,
       "border_left": null,
       "border_right": null,
       "border_top": null,
       "bottom": null,
       "display": null,
       "flex": null,
       "flex_flow": null,
       "grid_area": null,
       "grid_auto_columns": null,
       "grid_auto_flow": null,
       "grid_auto_rows": null,
       "grid_column": null,
       "grid_gap": null,
       "grid_row": null,
       "grid_template_areas": null,
       "grid_template_columns": null,
       "grid_template_rows": null,
       "height": null,
       "justify_content": null,
       "justify_items": null,
       "left": null,
       "margin": null,
       "max_height": null,
       "max_width": null,
       "min_height": null,
       "min_width": null,
       "object_fit": null,
       "object_position": null,
       "order": null,
       "overflow": null,
       "padding": null,
       "right": null,
       "top": null,
       "visibility": null,
       "width": null
      }
     },
     "1c63d37c8fe5417c9e1fa719a03366fc": {
      "model_module": "@jupyter-widgets/controls",
      "model_module_version": "2.0.0",
      "model_name": "SliderStyleModel",
      "state": {
       "_model_module": "@jupyter-widgets/controls",
       "_model_module_version": "2.0.0",
       "_model_name": "SliderStyleModel",
       "_view_count": null,
       "_view_module": "@jupyter-widgets/base",
       "_view_module_version": "2.0.0",
       "_view_name": "StyleView",
       "description_width": "",
       "handle_color": null
      }
     },
     "2eadbbdc8171435c9202faa17f2a9ce7": {
      "model_module": "@jupyter-widgets/controls",
      "model_module_version": "2.0.0",
      "model_name": "SliderStyleModel",
      "state": {
       "_model_module": "@jupyter-widgets/controls",
       "_model_module_version": "2.0.0",
       "_model_name": "SliderStyleModel",
       "_view_count": null,
       "_view_module": "@jupyter-widgets/base",
       "_view_module_version": "2.0.0",
       "_view_name": "StyleView",
       "description_width": "",
       "handle_color": null
      }
     },
     "364536d77e094c7a91258778619eeadd": {
      "model_module": "@jupyter-widgets/controls",
      "model_module_version": "2.0.0",
      "model_name": "ButtonStyleModel",
      "state": {
       "_model_module": "@jupyter-widgets/controls",
       "_model_module_version": "2.0.0",
       "_model_name": "ButtonStyleModel",
       "_view_count": null,
       "_view_module": "@jupyter-widgets/base",
       "_view_module_version": "2.0.0",
       "_view_name": "StyleView",
       "button_color": null,
       "font_family": null,
       "font_size": null,
       "font_style": null,
       "font_variant": null,
       "font_weight": null,
       "text_color": null,
       "text_decoration": null
      }
     },
     "54353b6c12564260ba512c0e73d0dc83": {
      "model_module": "@jupyter-widgets/base",
      "model_module_version": "2.0.0",
      "model_name": "LayoutModel",
      "state": {
       "_model_module": "@jupyter-widgets/base",
       "_model_module_version": "2.0.0",
       "_model_name": "LayoutModel",
       "_view_count": null,
       "_view_module": "@jupyter-widgets/base",
       "_view_module_version": "2.0.0",
       "_view_name": "LayoutView",
       "align_content": null,
       "align_items": null,
       "align_self": null,
       "border_bottom": null,
       "border_left": null,
       "border_right": null,
       "border_top": null,
       "bottom": null,
       "display": null,
       "flex": null,
       "flex_flow": null,
       "grid_area": null,
       "grid_auto_columns": null,
       "grid_auto_flow": null,
       "grid_auto_rows": null,
       "grid_column": null,
       "grid_gap": null,
       "grid_row": null,
       "grid_template_areas": null,
       "grid_template_columns": null,
       "grid_template_rows": null,
       "height": null,
       "justify_content": null,
       "justify_items": null,
       "left": null,
       "margin": null,
       "max_height": null,
       "max_width": null,
       "min_height": null,
       "min_width": null,
       "object_fit": null,
       "object_position": null,
       "order": null,
       "overflow": null,
       "padding": null,
       "right": null,
       "top": null,
       "visibility": null,
       "width": null
      }
     },
     "5a47d3cbc8204280be37ee9810595f63": {
      "model_module": "@jupyter-widgets/base",
      "model_module_version": "2.0.0",
      "model_name": "LayoutModel",
      "state": {
       "_model_module": "@jupyter-widgets/base",
       "_model_module_version": "2.0.0",
       "_model_name": "LayoutModel",
       "_view_count": null,
       "_view_module": "@jupyter-widgets/base",
       "_view_module_version": "2.0.0",
       "_view_name": "LayoutView",
       "align_content": null,
       "align_items": null,
       "align_self": null,
       "border_bottom": null,
       "border_left": null,
       "border_right": null,
       "border_top": null,
       "bottom": null,
       "display": null,
       "flex": null,
       "flex_flow": null,
       "grid_area": null,
       "grid_auto_columns": null,
       "grid_auto_flow": null,
       "grid_auto_rows": null,
       "grid_column": null,
       "grid_gap": null,
       "grid_row": null,
       "grid_template_areas": null,
       "grid_template_columns": null,
       "grid_template_rows": null,
       "height": null,
       "justify_content": null,
       "justify_items": null,
       "left": null,
       "margin": null,
       "max_height": null,
       "max_width": null,
       "min_height": null,
       "min_width": null,
       "object_fit": null,
       "object_position": null,
       "order": null,
       "overflow": null,
       "padding": null,
       "right": null,
       "top": null,
       "visibility": null,
       "width": null
      }
     },
     "6fcb26d93eb5488db2eb6513a3b31922": {
      "model_module": "@jupyter-widgets/output",
      "model_module_version": "1.0.0",
      "model_name": "OutputModel",
      "state": {
       "_dom_classes": [],
       "_model_module": "@jupyter-widgets/output",
       "_model_module_version": "1.0.0",
       "_model_name": "OutputModel",
       "_view_count": null,
       "_view_module": "@jupyter-widgets/output",
       "_view_module_version": "1.0.0",
       "_view_name": "OutputView",
       "layout": "IPY_MODEL_898c462ecb6f4f01a147fee20578f583",
       "msg_id": "",
       "outputs": [],
       "tabbable": null,
       "tooltip": null
      }
     },
     "7c182e1b4f544311bfd8e533472f3ca7": {
      "model_module": "@jupyter-widgets/controls",
      "model_module_version": "2.0.0",
      "model_name": "IntSliderModel",
      "state": {
       "_dom_classes": [],
       "_model_module": "@jupyter-widgets/controls",
       "_model_module_version": "2.0.0",
       "_model_name": "IntSliderModel",
       "_view_count": null,
       "_view_module": "@jupyter-widgets/controls",
       "_view_module_version": "2.0.0",
       "_view_name": "IntSliderView",
       "behavior": "drag-tap",
       "continuous_update": true,
       "description": "sell_qty",
       "description_allow_html": false,
       "disabled": false,
       "layout": "IPY_MODEL_11e1d28a600f47f0b6d957c83b8a271c",
       "max": 20,
       "min": 1,
       "orientation": "horizontal",
       "readout": true,
       "readout_format": "d",
       "step": 1,
       "style": "IPY_MODEL_2eadbbdc8171435c9202faa17f2a9ce7",
       "tabbable": null,
       "tooltip": null,
       "value": 10
      }
     },
     "811a4a0a174643089256ff3875b19dfc": {
      "model_module": "@jupyter-widgets/base",
      "model_module_version": "2.0.0",
      "model_name": "LayoutModel",
      "state": {
       "_model_module": "@jupyter-widgets/base",
       "_model_module_version": "2.0.0",
       "_model_name": "LayoutModel",
       "_view_count": null,
       "_view_module": "@jupyter-widgets/base",
       "_view_module_version": "2.0.0",
       "_view_name": "LayoutView",
       "align_content": null,
       "align_items": null,
       "align_self": null,
       "border_bottom": null,
       "border_left": null,
       "border_right": null,
       "border_top": null,
       "bottom": null,
       "display": null,
       "flex": null,
       "flex_flow": null,
       "grid_area": null,
       "grid_auto_columns": null,
       "grid_auto_flow": null,
       "grid_auto_rows": null,
       "grid_column": null,
       "grid_gap": null,
       "grid_row": null,
       "grid_template_areas": null,
       "grid_template_columns": null,
       "grid_template_rows": null,
       "height": null,
       "justify_content": null,
       "justify_items": null,
       "left": null,
       "margin": null,
       "max_height": null,
       "max_width": null,
       "min_height": null,
       "min_width": null,
       "object_fit": null,
       "object_position": null,
       "order": null,
       "overflow": null,
       "padding": null,
       "right": null,
       "top": null,
       "visibility": null,
       "width": null
      }
     },
     "8476dd10c6354e658bba19885cda12e2": {
      "model_module": "@jupyter-widgets/controls",
      "model_module_version": "2.0.0",
      "model_name": "SliderStyleModel",
      "state": {
       "_model_module": "@jupyter-widgets/controls",
       "_model_module_version": "2.0.0",
       "_model_name": "SliderStyleModel",
       "_view_count": null,
       "_view_module": "@jupyter-widgets/base",
       "_view_module_version": "2.0.0",
       "_view_name": "StyleView",
       "description_width": "",
       "handle_color": null
      }
     },
     "898c462ecb6f4f01a147fee20578f583": {
      "model_module": "@jupyter-widgets/base",
      "model_module_version": "2.0.0",
      "model_name": "LayoutModel",
      "state": {
       "_model_module": "@jupyter-widgets/base",
       "_model_module_version": "2.0.0",
       "_model_name": "LayoutModel",
       "_view_count": null,
       "_view_module": "@jupyter-widgets/base",
       "_view_module_version": "2.0.0",
       "_view_name": "LayoutView",
       "align_content": null,
       "align_items": null,
       "align_self": null,
       "border_bottom": null,
       "border_left": null,
       "border_right": null,
       "border_top": null,
       "bottom": null,
       "display": null,
       "flex": null,
       "flex_flow": null,
       "grid_area": null,
       "grid_auto_columns": null,
       "grid_auto_flow": null,
       "grid_auto_rows": null,
       "grid_column": null,
       "grid_gap": null,
       "grid_row": null,
       "grid_template_areas": null,
       "grid_template_columns": null,
       "grid_template_rows": null,
       "height": null,
       "justify_content": null,
       "justify_items": null,
       "left": null,
       "margin": null,
       "max_height": null,
       "max_width": null,
       "min_height": null,
       "min_width": null,
       "object_fit": null,
       "object_position": null,
       "order": null,
       "overflow": null,
       "padding": null,
       "right": null,
       "top": null,
       "visibility": null,
       "width": null
      }
     },
     "963acb522b934ee7a5b4d7b36a5a0ae1": {
      "model_module": "@jupyter-widgets/controls",
      "model_module_version": "2.0.0",
      "model_name": "SliderStyleModel",
      "state": {
       "_model_module": "@jupyter-widgets/controls",
       "_model_module_version": "2.0.0",
       "_model_name": "SliderStyleModel",
       "_view_count": null,
       "_view_module": "@jupyter-widgets/base",
       "_view_module_version": "2.0.0",
       "_view_name": "StyleView",
       "description_width": "",
       "handle_color": null
      }
     },
     "9f2e07f085694d2f9becca5d51e4448b": {
      "model_module": "@jupyter-widgets/base",
      "model_module_version": "2.0.0",
      "model_name": "LayoutModel",
      "state": {
       "_model_module": "@jupyter-widgets/base",
       "_model_module_version": "2.0.0",
       "_model_name": "LayoutModel",
       "_view_count": null,
       "_view_module": "@jupyter-widgets/base",
       "_view_module_version": "2.0.0",
       "_view_name": "LayoutView",
       "align_content": null,
       "align_items": null,
       "align_self": null,
       "border_bottom": null,
       "border_left": null,
       "border_right": null,
       "border_top": null,
       "bottom": null,
       "display": null,
       "flex": null,
       "flex_flow": null,
       "grid_area": null,
       "grid_auto_columns": null,
       "grid_auto_flow": null,
       "grid_auto_rows": null,
       "grid_column": null,
       "grid_gap": null,
       "grid_row": null,
       "grid_template_areas": null,
       "grid_template_columns": null,
       "grid_template_rows": null,
       "height": null,
       "justify_content": null,
       "justify_items": null,
       "left": null,
       "margin": null,
       "max_height": null,
       "max_width": null,
       "min_height": null,
       "min_width": null,
       "object_fit": null,
       "object_position": null,
       "order": null,
       "overflow": null,
       "padding": null,
       "right": null,
       "top": null,
       "visibility": null,
       "width": null
      }
     },
     "a0707846bde949818e596c9edbb94317": {
      "model_module": "@jupyter-widgets/controls",
      "model_module_version": "2.0.0",
      "model_name": "IntSliderModel",
      "state": {
       "_dom_classes": [],
       "_model_module": "@jupyter-widgets/controls",
       "_model_module_version": "2.0.0",
       "_model_name": "IntSliderModel",
       "_view_count": null,
       "_view_module": "@jupyter-widgets/controls",
       "_view_module_version": "2.0.0",
       "_view_name": "IntSliderView",
       "behavior": "drag-tap",
       "continuous_update": true,
       "description": "buy_qty",
       "description_allow_html": false,
       "disabled": false,
       "layout": "IPY_MODEL_9f2e07f085694d2f9becca5d51e4448b",
       "max": 20,
       "min": 1,
       "orientation": "horizontal",
       "readout": true,
       "readout_format": "d",
       "step": 1,
       "style": "IPY_MODEL_8476dd10c6354e658bba19885cda12e2",
       "tabbable": null,
       "tooltip": null,
       "value": 10
      }
     },
     "aa0050b22a8844179da364812f7d27cd": {
      "model_module": "@jupyter-widgets/controls",
      "model_module_version": "2.0.0",
      "model_name": "FloatSliderModel",
      "state": {
       "_dom_classes": [],
       "_model_module": "@jupyter-widgets/controls",
       "_model_module_version": "2.0.0",
       "_model_name": "FloatSliderModel",
       "_view_count": null,
       "_view_module": "@jupyter-widgets/controls",
       "_view_module_version": "2.0.0",
       "_view_name": "FloatSliderView",
       "behavior": "drag-tap",
       "continuous_update": true,
       "description": "sell_price",
       "description_allow_html": false,
       "disabled": false,
       "layout": "IPY_MODEL_c590c289fe1d4c5f93ae00b80574b2e3",
       "max": 102.0,
       "min": 98.0,
       "orientation": "horizontal",
       "readout": true,
       "readout_format": ".2f",
       "step": 0.1,
       "style": "IPY_MODEL_1c63d37c8fe5417c9e1fa719a03366fc",
       "tabbable": null,
       "tooltip": null,
       "value": 99.5
      }
     },
     "ab89f9b53bce43829a8b8781452c964b": {
      "model_module": "@jupyter-widgets/controls",
      "model_module_version": "2.0.0",
      "model_name": "ButtonModel",
      "state": {
       "_dom_classes": [],
       "_model_module": "@jupyter-widgets/controls",
       "_model_module_version": "2.0.0",
       "_model_name": "ButtonModel",
       "_view_count": null,
       "_view_module": "@jupyter-widgets/controls",
       "_view_module_version": "2.0.0",
       "_view_name": "ButtonView",
       "button_style": "",
       "description": "Run Interact",
       "disabled": false,
       "icon": "",
       "layout": "IPY_MODEL_5a47d3cbc8204280be37ee9810595f63",
       "style": "IPY_MODEL_364536d77e094c7a91258778619eeadd",
       "tabbable": null,
       "tooltip": null
      }
     },
     "b9d1ca226c304902a706300b8a0fbcd4": {
      "model_module": "@jupyter-widgets/base",
      "model_module_version": "2.0.0",
      "model_name": "LayoutModel",
      "state": {
       "_model_module": "@jupyter-widgets/base",
       "_model_module_version": "2.0.0",
       "_model_name": "LayoutModel",
       "_view_count": null,
       "_view_module": "@jupyter-widgets/base",
       "_view_module_version": "2.0.0",
       "_view_name": "LayoutView",
       "align_content": null,
       "align_items": null,
       "align_self": null,
       "border_bottom": null,
       "border_left": null,
       "border_right": null,
       "border_top": null,
       "bottom": null,
       "display": null,
       "flex": null,
       "flex_flow": null,
       "grid_area": null,
       "grid_auto_columns": null,
       "grid_auto_flow": null,
       "grid_auto_rows": null,
       "grid_column": null,
       "grid_gap": null,
       "grid_row": null,
       "grid_template_areas": null,
       "grid_template_columns": null,
       "grid_template_rows": null,
       "height": null,
       "justify_content": null,
       "justify_items": null,
       "left": null,
       "margin": null,
       "max_height": null,
       "max_width": null,
       "min_height": null,
       "min_width": null,
       "object_fit": null,
       "object_position": null,
       "order": null,
       "overflow": null,
       "padding": null,
       "right": null,
       "top": null,
       "visibility": null,
       "width": null
      }
     },
     "c590c289fe1d4c5f93ae00b80574b2e3": {
      "model_module": "@jupyter-widgets/base",
      "model_module_version": "2.0.0",
      "model_name": "LayoutModel",
      "state": {
       "_model_module": "@jupyter-widgets/base",
       "_model_module_version": "2.0.0",
       "_model_name": "LayoutModel",
       "_view_count": null,
       "_view_module": "@jupyter-widgets/base",
       "_view_module_version": "2.0.0",
       "_view_name": "LayoutView",
       "align_content": null,
       "align_items": null,
       "align_self": null,
       "border_bottom": null,
       "border_left": null,
       "border_right": null,
       "border_top": null,
       "bottom": null,
       "display": null,
       "flex": null,
       "flex_flow": null,
       "grid_area": null,
       "grid_auto_columns": null,
       "grid_auto_flow": null,
       "grid_auto_rows": null,
       "grid_column": null,
       "grid_gap": null,
       "grid_row": null,
       "grid_template_areas": null,
       "grid_template_columns": null,
       "grid_template_rows": null,
       "height": null,
       "justify_content": null,
       "justify_items": null,
       "left": null,
       "margin": null,
       "max_height": null,
       "max_width": null,
       "min_height": null,
       "min_width": null,
       "object_fit": null,
       "object_position": null,
       "order": null,
       "overflow": null,
       "padding": null,
       "right": null,
       "top": null,
       "visibility": null,
       "width": null
      }
     },
     "cb269663ff954d9b9036788353f41581": {
      "model_module": "@jupyter-widgets/controls",
      "model_module_version": "2.0.0",
      "model_name": "ToggleButtonModel",
      "state": {
       "_dom_classes": [],
       "_model_module": "@jupyter-widgets/controls",
       "_model_module_version": "2.0.0",
       "_model_name": "ToggleButtonModel",
       "_view_count": null,
       "_view_module": "@jupyter-widgets/controls",
       "_view_module_version": "2.0.0",
       "_view_name": "ToggleButtonView",
       "button_style": "",
       "description": "Show Solutions",
       "description_allow_html": false,
       "disabled": false,
       "icon": "",
       "layout": "IPY_MODEL_b9d1ca226c304902a706300b8a0fbcd4",
       "style": "IPY_MODEL_d9a10445e5224c1685b128f52a1927fb",
       "tabbable": null,
       "tooltip": null,
       "value": false
      }
     },
     "d9a10445e5224c1685b128f52a1927fb": {
      "model_module": "@jupyter-widgets/controls",
      "model_module_version": "2.0.0",
      "model_name": "ToggleButtonStyleModel",
      "state": {
       "_model_module": "@jupyter-widgets/controls",
       "_model_module_version": "2.0.0",
       "_model_name": "ToggleButtonStyleModel",
       "_view_count": null,
       "_view_module": "@jupyter-widgets/base",
       "_view_module_version": "2.0.0",
       "_view_name": "StyleView",
       "description_width": "",
       "font_family": null,
       "font_size": null,
       "font_style": null,
       "font_variant": null,
       "font_weight": null,
       "text_color": null,
       "text_decoration": null
      }
     }
    },
    "version_major": 2,
    "version_minor": 0
   }
  }
 },
 "nbformat": 4,
 "nbformat_minor": 5
}
